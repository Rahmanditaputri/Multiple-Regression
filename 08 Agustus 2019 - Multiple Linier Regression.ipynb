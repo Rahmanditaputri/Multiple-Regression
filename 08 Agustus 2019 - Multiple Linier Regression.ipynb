{
 "cells": [
  {
   "cell_type": "code",
   "execution_count": 27,
   "metadata": {},
   "outputs": [],
   "source": [
    "# tugas regresi linier berganda\n",
    "# urutan data - y (laba), x1 (penjualan), x2 (harga bahan baku)\n",
    "laba=[3000000, 4000000, 2000000, 1200000, 5000000, 2000000, 5000000]\n",
    "jual=[7000000, 10000000, 7500000, 5000000, 17000000, 7000000, 14000000]\n",
    "h_baku=[325000, 360000, 415000, 520000, 475000, 635000, 700000]"
   ]
  },
  {
   "cell_type": "code",
   "execution_count": 45,
   "metadata": {},
   "outputs": [],
   "source": [
    "import numpy as np\n",
    "from numpy.linalg import inv\n",
    "import matplotlib.pyplot as plt\n",
    "\n",
    "def regmul(data):\n",
    "    '''\n",
    "    data[0]:adalah laba -> var. respon -> y\n",
    "    data[1]:adalah penjualan -> var. prediktor -> x\n",
    "    data[2]:adalah harga bahan baku -> var. prediktor -> z \n",
    "    '''\n",
    "    n=len(data[0])\n",
    "    x1_kuadrat=[]\n",
    "    x2_kuadrat=[]\n",
    "    for x in data[1]:\n",
    "        x1_kuadrat.append(pow(x,2))\n",
    "    for z in data[2]:\n",
    "        x2_kuadrat.append(pow(z,2))\n",
    "    x1x2=[]\n",
    "    x1y=[]\n",
    "    x2y=[]\n",
    "    i=0\n",
    "    while(i<n):\n",
    "        xx=data[1][i]*data[2][i]\n",
    "        x1x2.append(xx)\n",
    "        x1_y=data[1][i]*data[0][i]\n",
    "        x1y.append(x1_y)\n",
    "        x2_y=data[2][i]*data[0][i]\n",
    "        x2y.append(x2_y)\n",
    "        i=i+1\n",
    "    jumlah_y=sum(data[0])\n",
    "    jumlah_x1=sum(data[1])\n",
    "    jumlah_x2=sum(data[2])\n",
    "    jumlah_x1kuadrat=sum(x1_kuadrat)\n",
    "    jumlah_x2kuadrat=sum(x2_kuadrat)\n",
    "    jumlah_x1x2=sum(x1x2)\n",
    "    jumlah_x1y=sum(x1y)\n",
    "    jumlah_x2y=sum(x2y)\n",
    "    m1=[n, jumlah_x1, jumlah_x2]\n",
    "    m2=[jumlah_x1, jumlah_x1kuadrat, jumlah_x1x2]\n",
    "    m3=[jumlah_x2, jumlah_x1x2, jumlah_x2kuadrat]\n",
    "    mx=np.row_stack([m1, m2, m3])\n",
    "    my=[jumlah_y, jumlah_x1y, jumlah_x2y]\n",
    "    mxx=inv(mx)\n",
    "    beta_topi=np.matmul(mxx, my)\n",
    "    b0=round(beta_topi[0])\n",
    "    b1=round(beta_topi[1],4)\n",
    "    b2=round(beta_topi[2],2)\n",
    "    print ('nilai koefisien beta adalah :')\n",
    "    print ('b0=', round(beta_topi[0]))\n",
    "    print ('b1=', round(beta_topi[1],4))\n",
    "    print ('b2=', round(beta_topi[2],2))\n",
    "    print ('persamaan regresinya adalah')\n",
    "    print ('laba =', b0, '+', b1, 'penjualan', b2, 'h_bahanbaku')\n",
    "    return (b0, b1, b2)"
   ]
  },
  {
   "cell_type": "code",
   "execution_count": 48,
   "metadata": {},
   "outputs": [
    {
     "name": "stdout",
     "output_type": "stream",
     "text": [
      "nilai koefisien beta adalah :\n",
      "b0= 545824.0\n",
      "b1= 0.3348\n",
      "b2= -1.23\n",
      "persamaan regresinya adalah\n",
      "laba = 545824.0 + 0.3348 penjualan -1.23 h_bahanbaku\n",
      "Plot regresi untuk data tsb adalah\n"
     ]
    },
    {
     "data": {
      "image/png": "[encoded data removed]",
      "text/plain": [
       "<Figure size 432x288 with 1 Axes>"
      ]
     },
     "metadata": {},
     "output_type": "display_data"
    }
   ],
   "source": [
    "# membuat plot untuk garis regresi\n",
    "from matplotlib import pyplot\n",
    "from mpl_toolkits.mplot3d import Axes3D\n",
    "\n",
    "def plotregmul(datatoko):\n",
    "    hregmul=regmul(datatoko)\n",
    "    print ('Plot regresi untuk data tsb adalah')\n",
    "    pict=pyplot.figure()\n",
    "    ax=Axes3D(pict)\n",
    "    ax.scatter(datatoko[2], datatoko[1], datatoko[0], label='y', s=10, c='r')\n",
    "    ax.legend()\n",
    "    ax.view_init(45, 0)\n",
    "    pict.savefig('plotregmul.png')\n",
    "    plt.show()\n",
    "plotregmul([laba, jual, h_baku])"
   ]
  },
  {
   "cell_type": "code",
   "execution_count": null,
   "metadata": {},
   "outputs": [],
   "source": []
  }
 ],
 "metadata": {
  "kernelspec": {
   "display_name": "Python 3",
   "language": "python",
   "name": "python3"
  },
  "language_info": {
   "codemirror_mode": {
    "name": "ipython",
    "version": 3
   },
   "file_extension": ".py",
   "mimetype": "text/x-python",
   "name": "python",
   "nbconvert_exporter": "python",
   "pygments_lexer": "ipython3",
   "version": "3.7.3"
  }
 },
 "nbformat": 4,
 "nbformat_minor": 2
}
